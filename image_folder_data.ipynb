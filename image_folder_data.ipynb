{
 "cells": [
  {
   "cell_type": "code",
   "execution_count": 1,
   "id": "311e48f5",
   "metadata": {},
   "outputs": [],
   "source": [
    "import pandas as pd\n",
    "import os"
   ]
  },
  {
   "cell_type": "code",
   "execution_count": 2,
   "id": "e7603506",
   "metadata": {},
   "outputs": [],
   "source": [
    "# Importing cleaned DF\n",
    "NYC_dogs_clean_forclass = os.path.join('.', 'Resources/NYC_dogs_clean_forclass.csv')\n",
    "NYC_dogs_clean_tableau = pd.read_csv(NYC_dogs_clean_forclass)"
   ]
  },
  {
   "cell_type": "code",
   "execution_count": 3,
   "id": "8dd99f6b",
   "metadata": {},
   "outputs": [
    {
     "data": {
      "text/html": [
       "<div>\n",
       "<style scoped>\n",
       "    .dataframe tbody tr th:only-of-type {\n",
       "        vertical-align: middle;\n",
       "    }\n",
       "\n",
       "    .dataframe tbody tr th {\n",
       "        vertical-align: top;\n",
       "    }\n",
       "\n",
       "    .dataframe thead th {\n",
       "        text-align: right;\n",
       "    }\n",
       "</style>\n",
       "<table border=\"1\" class=\"dataframe\">\n",
       "  <thead>\n",
       "    <tr style=\"text-align: right;\">\n",
       "      <th></th>\n",
       "      <th>Unnamed: 0</th>\n",
       "      <th>AnimalName</th>\n",
       "      <th>AnimalGender</th>\n",
       "      <th>AnimalBirthMonth</th>\n",
       "      <th>BreedName</th>\n",
       "      <th>Borough</th>\n",
       "      <th>ZipCode</th>\n",
       "      <th>CommunityDistrict</th>\n",
       "      <th>CensusTract2010</th>\n",
       "      <th>NTA</th>\n",
       "      <th>CityCouncilDistrict</th>\n",
       "      <th>CongressionalDistrict</th>\n",
       "      <th>StateSenatorialDistrict</th>\n",
       "      <th>LicenseIssuedDate</th>\n",
       "      <th>LicenseExpiredDate</th>\n",
       "    </tr>\n",
       "  </thead>\n",
       "  <tbody>\n",
       "    <tr>\n",
       "      <th>0</th>\n",
       "      <td>0</td>\n",
       "      <td>SHADOW</td>\n",
       "      <td>M</td>\n",
       "      <td>1</td>\n",
       "      <td>Beagle</td>\n",
       "      <td>Brooklyn</td>\n",
       "      <td>11236</td>\n",
       "      <td>318.0</td>\n",
       "      <td>1014.0</td>\n",
       "      <td>BK50</td>\n",
       "      <td>46.0</td>\n",
       "      <td>8.0</td>\n",
       "      <td>19.0</td>\n",
       "      <td>2014-12-29</td>\n",
       "      <td>2016-01-30</td>\n",
       "    </tr>\n",
       "    <tr>\n",
       "      <th>1</th>\n",
       "      <td>1</td>\n",
       "      <td>ROCCO</td>\n",
       "      <td>M</td>\n",
       "      <td>10</td>\n",
       "      <td>Boxer</td>\n",
       "      <td>Brooklyn</td>\n",
       "      <td>11210</td>\n",
       "      <td>314.0</td>\n",
       "      <td>756.0</td>\n",
       "      <td>BK43</td>\n",
       "      <td>45.0</td>\n",
       "      <td>9.0</td>\n",
       "      <td>17.0</td>\n",
       "      <td>2015-01-07</td>\n",
       "      <td>2016-01-30</td>\n",
       "    </tr>\n",
       "    <tr>\n",
       "      <th>2</th>\n",
       "      <td>2</td>\n",
       "      <td>LUIGI</td>\n",
       "      <td>M</td>\n",
       "      <td>9</td>\n",
       "      <td>Maltese</td>\n",
       "      <td>Bronx</td>\n",
       "      <td>10464</td>\n",
       "      <td>210.0</td>\n",
       "      <td>516.0</td>\n",
       "      <td>BX10</td>\n",
       "      <td>13.0</td>\n",
       "      <td>14.0</td>\n",
       "      <td>34.0</td>\n",
       "      <td>2015-01-17</td>\n",
       "      <td>2016-02-02</td>\n",
       "    </tr>\n",
       "    <tr>\n",
       "      <th>3</th>\n",
       "      <td>3</td>\n",
       "      <td>PETUNIA</td>\n",
       "      <td>F</td>\n",
       "      <td>8</td>\n",
       "      <td>Pug</td>\n",
       "      <td>Brooklyn</td>\n",
       "      <td>11221</td>\n",
       "      <td>304.0</td>\n",
       "      <td>419.0</td>\n",
       "      <td>BK78</td>\n",
       "      <td>34.0</td>\n",
       "      <td>7.0</td>\n",
       "      <td>18.0</td>\n",
       "      <td>2015-03-01</td>\n",
       "      <td>2016-03-28</td>\n",
       "    </tr>\n",
       "    <tr>\n",
       "      <th>4</th>\n",
       "      <td>4</td>\n",
       "      <td>ROMEO</td>\n",
       "      <td>M</td>\n",
       "      <td>10</td>\n",
       "      <td>Maltese</td>\n",
       "      <td>Bronx</td>\n",
       "      <td>10451</td>\n",
       "      <td>201.0</td>\n",
       "      <td>65.0</td>\n",
       "      <td>BX34</td>\n",
       "      <td>17.0</td>\n",
       "      <td>15.0</td>\n",
       "      <td>32.0</td>\n",
       "      <td>2015-03-09</td>\n",
       "      <td>2016-03-09</td>\n",
       "    </tr>\n",
       "    <tr>\n",
       "      <th>...</th>\n",
       "      <td>...</td>\n",
       "      <td>...</td>\n",
       "      <td>...</td>\n",
       "      <td>...</td>\n",
       "      <td>...</td>\n",
       "      <td>...</td>\n",
       "      <td>...</td>\n",
       "      <td>...</td>\n",
       "      <td>...</td>\n",
       "      <td>...</td>\n",
       "      <td>...</td>\n",
       "      <td>...</td>\n",
       "      <td>...</td>\n",
       "      <td>...</td>\n",
       "      <td>...</td>\n",
       "    </tr>\n",
       "    <tr>\n",
       "      <th>117619</th>\n",
       "      <td>121857</td>\n",
       "      <td>ROCKY</td>\n",
       "      <td>M</td>\n",
       "      <td>6</td>\n",
       "      <td>Boston Terrier</td>\n",
       "      <td>Manhattan</td>\n",
       "      <td>10022</td>\n",
       "      <td>106.0</td>\n",
       "      <td>98.0</td>\n",
       "      <td>MN19</td>\n",
       "      <td>4.0</td>\n",
       "      <td>12.0</td>\n",
       "      <td>28.0</td>\n",
       "      <td>2016-12-31</td>\n",
       "      <td>2018-12-31</td>\n",
       "    </tr>\n",
       "    <tr>\n",
       "      <th>117620</th>\n",
       "      <td>121858</td>\n",
       "      <td>ROXY</td>\n",
       "      <td>F</td>\n",
       "      <td>10</td>\n",
       "      <td>Collie, Border</td>\n",
       "      <td>Brooklyn</td>\n",
       "      <td>11219</td>\n",
       "      <td>311.0</td>\n",
       "      <td>250.0</td>\n",
       "      <td>BK28</td>\n",
       "      <td>38.0</td>\n",
       "      <td>10.0</td>\n",
       "      <td>22.0</td>\n",
       "      <td>2016-12-31</td>\n",
       "      <td>2018-09-18</td>\n",
       "    </tr>\n",
       "    <tr>\n",
       "      <th>117621</th>\n",
       "      <td>121859</td>\n",
       "      <td>VALENTINA</td>\n",
       "      <td>F</td>\n",
       "      <td>5</td>\n",
       "      <td>German Shepherd Crossbreed</td>\n",
       "      <td>Staten Island</td>\n",
       "      <td>10312</td>\n",
       "      <td>503.0</td>\n",
       "      <td>17008.0</td>\n",
       "      <td>SI48</td>\n",
       "      <td>51.0</td>\n",
       "      <td>11.0</td>\n",
       "      <td>24.0</td>\n",
       "      <td>2016-12-31</td>\n",
       "      <td>2017-12-31</td>\n",
       "    </tr>\n",
       "    <tr>\n",
       "      <th>117622</th>\n",
       "      <td>121860</td>\n",
       "      <td>VENUS</td>\n",
       "      <td>F</td>\n",
       "      <td>12</td>\n",
       "      <td>Yorkshire Terrier</td>\n",
       "      <td>Bronx</td>\n",
       "      <td>10455</td>\n",
       "      <td>201.0</td>\n",
       "      <td>79.0</td>\n",
       "      <td>BX34</td>\n",
       "      <td>8.0</td>\n",
       "      <td>15.0</td>\n",
       "      <td>29.0</td>\n",
       "      <td>2016-12-31</td>\n",
       "      <td>2017-06-06</td>\n",
       "    </tr>\n",
       "    <tr>\n",
       "      <th>117623</th>\n",
       "      <td>121861</td>\n",
       "      <td>WILLOW</td>\n",
       "      <td>F</td>\n",
       "      <td>3</td>\n",
       "      <td>Unknown</td>\n",
       "      <td>Manhattan</td>\n",
       "      <td>10025</td>\n",
       "      <td>107.0</td>\n",
       "      <td>195.0</td>\n",
       "      <td>MN09</td>\n",
       "      <td>7.0</td>\n",
       "      <td>10.0</td>\n",
       "      <td>31.0</td>\n",
       "      <td>2016-12-31</td>\n",
       "      <td>2018-01-15</td>\n",
       "    </tr>\n",
       "  </tbody>\n",
       "</table>\n",
       "<p>117624 rows × 15 columns</p>\n",
       "</div>"
      ],
      "text/plain": [
       "        Unnamed: 0 AnimalName AnimalGender  AnimalBirthMonth  \\\n",
       "0                0    SHADOW             M                 1   \n",
       "1                1      ROCCO            M                10   \n",
       "2                2      LUIGI            M                 9   \n",
       "3                3    PETUNIA            F                 8   \n",
       "4                4      ROMEO            M                10   \n",
       "...            ...        ...          ...               ...   \n",
       "117619      121857      ROCKY            M                 6   \n",
       "117620      121858      ROXY             F                10   \n",
       "117621      121859  VALENTINA            F                 5   \n",
       "117622      121860      VENUS            F                12   \n",
       "117623      121861     WILLOW            F                 3   \n",
       "\n",
       "                         BreedName        Borough  ZipCode  CommunityDistrict  \\\n",
       "0                           Beagle       Brooklyn    11236              318.0   \n",
       "1                            Boxer       Brooklyn    11210              314.0   \n",
       "2                          Maltese          Bronx    10464              210.0   \n",
       "3                              Pug       Brooklyn    11221              304.0   \n",
       "4                          Maltese          Bronx    10451              201.0   \n",
       "...                            ...            ...      ...                ...   \n",
       "117619              Boston Terrier      Manhattan    10022              106.0   \n",
       "117620              Collie, Border       Brooklyn    11219              311.0   \n",
       "117621  German Shepherd Crossbreed  Staten Island    10312              503.0   \n",
       "117622           Yorkshire Terrier          Bronx    10455              201.0   \n",
       "117623                     Unknown      Manhattan    10025              107.0   \n",
       "\n",
       "        CensusTract2010   NTA  CityCouncilDistrict  CongressionalDistrict  \\\n",
       "0                1014.0  BK50                 46.0                    8.0   \n",
       "1                 756.0  BK43                 45.0                    9.0   \n",
       "2                 516.0  BX10                 13.0                   14.0   \n",
       "3                 419.0  BK78                 34.0                    7.0   \n",
       "4                  65.0  BX34                 17.0                   15.0   \n",
       "...                 ...   ...                  ...                    ...   \n",
       "117619             98.0  MN19                  4.0                   12.0   \n",
       "117620            250.0  BK28                 38.0                   10.0   \n",
       "117621          17008.0  SI48                 51.0                   11.0   \n",
       "117622             79.0  BX34                  8.0                   15.0   \n",
       "117623            195.0  MN09                  7.0                   10.0   \n",
       "\n",
       "        StateSenatorialDistrict LicenseIssuedDate LicenseExpiredDate  \n",
       "0                          19.0        2014-12-29         2016-01-30  \n",
       "1                          17.0        2015-01-07         2016-01-30  \n",
       "2                          34.0        2015-01-17         2016-02-02  \n",
       "3                          18.0        2015-03-01         2016-03-28  \n",
       "4                          32.0        2015-03-09         2016-03-09  \n",
       "...                         ...               ...                ...  \n",
       "117619                     28.0        2016-12-31         2018-12-31  \n",
       "117620                     22.0        2016-12-31         2018-09-18  \n",
       "117621                     24.0        2016-12-31         2017-12-31  \n",
       "117622                     29.0        2016-12-31         2017-06-06  \n",
       "117623                     31.0        2016-12-31         2018-01-15  \n",
       "\n",
       "[117624 rows x 15 columns]"
      ]
     },
     "execution_count": 3,
     "metadata": {},
     "output_type": "execute_result"
    }
   ],
   "source": [
    "# DataDrame for Tableau visuals\n",
    "NYC_dogs_clean_tableau"
   ]
  },
  {
   "cell_type": "code",
   "execution_count": 4,
   "id": "1ce4f5b4",
   "metadata": {},
   "outputs": [
    {
     "data": {
      "text/plain": [
       "Unnamed: 0                   int64\n",
       "AnimalName                  object\n",
       "AnimalGender                object\n",
       "AnimalBirthMonth             int64\n",
       "BreedName                   object\n",
       "Borough                     object\n",
       "ZipCode                      int64\n",
       "CommunityDistrict          float64\n",
       "CensusTract2010            float64\n",
       "NTA                         object\n",
       "CityCouncilDistrict        float64\n",
       "CongressionalDistrict      float64\n",
       "StateSenatorialDistrict    float64\n",
       "LicenseIssuedDate           object\n",
       "LicenseExpiredDate          object\n",
       "dtype: object"
      ]
     },
     "execution_count": 4,
     "metadata": {},
     "output_type": "execute_result"
    }
   ],
   "source": [
    "# Column data types\n",
    "NYC_dogs_clean_tableau.dtypes"
   ]
  },
  {
   "cell_type": "markdown",
   "id": "7854c333",
   "metadata": {},
   "source": [
    "## Top 20 dog breeds in NYC"
   ]
  },
  {
   "cell_type": "code",
   "execution_count": 5,
   "id": "37cb2079",
   "metadata": {},
   "outputs": [
    {
     "data": {
      "text/plain": [
       "['Unknown',\n",
       " 'Yorkshire Terrier',\n",
       " 'Shih Tzu',\n",
       " 'Chihuahua',\n",
       " 'Labrador Retriever',\n",
       " 'Maltese',\n",
       " 'American Pit Bull Mix / Pit Bull Mix',\n",
       " 'American Pit Bull Terrier/Pit Bull',\n",
       " 'Labrador Retriever Crossbreed',\n",
       " 'Pomeranian',\n",
       " 'Beagle',\n",
       " 'Jack Russell Terrier',\n",
       " 'Golden Retriever',\n",
       " 'Havanese',\n",
       " 'German Shepherd Dog',\n",
       " 'Cocker Spaniel',\n",
       " 'Pug',\n",
       " 'German Shepherd Crossbreed',\n",
       " 'Cavalier King Charles Spaniel',\n",
       " 'Poodle, Toy']"
      ]
     },
     "execution_count": 5,
     "metadata": {},
     "output_type": "execute_result"
    }
   ],
   "source": [
    "# Top 20 dog Breeds DataFrame\n",
    "n=20\n",
    "NYC_dogs_clean_tableau['BreedName'].value_counts()[:n].index.tolist()"
   ]
  },
  {
   "cell_type": "markdown",
   "id": "6aae7c48",
   "metadata": {},
   "source": [
    "## Min and Max of CensusTract2010"
   ]
  },
  {
   "cell_type": "code",
   "execution_count": 7,
   "id": "9864a42e",
   "metadata": {},
   "outputs": [
    {
     "data": {
      "text/plain": [
       "1.0"
      ]
     },
     "execution_count": 7,
     "metadata": {},
     "output_type": "execute_result"
    }
   ],
   "source": [
    "# Min of CensusTract2010 column\n",
    "NYC_dogs_clean_tableau['CensusTract2010'].min()"
   ]
  },
  {
   "cell_type": "code",
   "execution_count": 8,
   "id": "22969e15",
   "metadata": {
    "scrolled": true
   },
   "outputs": [
    {
     "data": {
      "text/plain": [
       "157903.0"
      ]
     },
     "execution_count": 8,
     "metadata": {},
     "output_type": "execute_result"
    }
   ],
   "source": [
    "# Max of CensusTract2010 column\n",
    "NYC_dogs_clean_tableau['CensusTract2010'].max()"
   ]
  },
  {
   "cell_type": "markdown",
   "id": "cd1602b6",
   "metadata": {},
   "source": [
    "## Most popular dog names"
   ]
  },
  {
   "cell_type": "code",
   "execution_count": 39,
   "id": "01a35641",
   "metadata": {},
   "outputs": [
    {
     "data": {
      "text/plain": [
       "['Unknown',\n",
       " 'Yorkshire Terrier',\n",
       " 'Shih Tzu',\n",
       " 'Chihuahua',\n",
       " 'Labrador Retriever',\n",
       " 'Maltese',\n",
       " 'American Pit Bull Mix / Pit Bull Mix',\n",
       " 'American Pit Bull Terrier/Pit Bull',\n",
       " 'Labrador Retriever Crossbreed',\n",
       " 'Pomeranian',\n",
       " 'Beagle',\n",
       " 'Jack Russell Terrier',\n",
       " 'Golden Retriever',\n",
       " 'Havanese',\n",
       " 'German Shepherd Dog']"
      ]
     },
     "execution_count": 39,
     "metadata": {},
     "output_type": "execute_result"
    }
   ],
   "source": [
    "# Most popular dog names\n",
    "n=15\n",
    "NYC_dogs_clean_tableau['BreedName'].value_counts()[:n].index.tolist()"
   ]
  },
  {
   "cell_type": "markdown",
   "id": "3f5a4438",
   "metadata": {},
   "source": [
    "## Month most dogs are born"
   ]
  },
  {
   "cell_type": "code",
   "execution_count": 40,
   "id": "5d215c5e",
   "metadata": {},
   "outputs": [
    {
     "data": {
      "text/plain": [
       "[1, 6, 4]"
      ]
     },
     "execution_count": 40,
     "metadata": {},
     "output_type": "execute_result"
    }
   ],
   "source": [
    "# When most dogs are born\n",
    "n=3\n",
    "NYC_dogs_clean_tableau['AnimalBirthMonth'].value_counts()[:n].index.tolist()"
   ]
  },
  {
   "cell_type": "markdown",
   "id": "9a5abae9",
   "metadata": {},
   "source": [
    "## Year most dogs are registered"
   ]
  },
  {
   "cell_type": "code",
   "execution_count": 41,
   "id": "98006dae",
   "metadata": {},
   "outputs": [
    {
     "data": {
      "text/plain": [
       "['2016-07-12', '2016-08-08', '2016-05-11']"
      ]
     },
     "execution_count": 41,
     "metadata": {},
     "output_type": "execute_result"
    }
   ],
   "source": [
    "# When most dogs are registered\n",
    "n=3\n",
    "NYC_dogs_clean_tableau['LicenseIssuedDate'].value_counts()[:n].index.tolist()"
   ]
  },
  {
   "cell_type": "code",
   "execution_count": 50,
   "id": "3aa2ac21",
   "metadata": {},
   "outputs": [],
   "source": [
    "# import the datetime module\n",
    "import datetime"
   ]
  },
  {
   "cell_type": "code",
   "execution_count": 58,
   "id": "ccb8d13b",
   "metadata": {},
   "outputs": [],
   "source": [
    "# Adding year column\n",
    "NYC_dogs_clean_tableau['LicenseIssuedDate'] = pd.to_datetime(NYC_dogs_clean_tableau['LicenseIssuedDate'],format='%Y-%m-%d')\n",
    "NYC_dogs_clean_tableau['LicenseIssueYear'] = pd.DatetimeIndex(NYC_dogs_clean_tableau['LicenseIssuedDate']).year"
   ]
  },
  {
   "cell_type": "code",
   "execution_count": 53,
   "id": "7cbd4923",
   "metadata": {},
   "outputs": [
    {
     "data": {
      "text/plain": [
       "[2016, 2015, 2014]"
      ]
     },
     "execution_count": 53,
     "metadata": {},
     "output_type": "execute_result"
    }
   ],
   "source": [
    "# When most dogs are registered\n",
    "n=3\n",
    "NYC_dogs_clean_tableau['LicenseIssueYear'].value_counts()[:n].index.tolist()"
   ]
  },
  {
   "cell_type": "markdown",
   "id": "fe59337a",
   "metadata": {},
   "source": [
    "## Top dogs per Borough - created 5 df's per borough"
   ]
  },
  {
   "cell_type": "code",
   "execution_count": 28,
   "id": "182a8574",
   "metadata": {},
   "outputs": [],
   "source": [
    "# Creating new df with BreedName and Borough only \n",
    "boroughs_df = NYC_dogs_clean_tableau.filter(['BreedName','Borough'], axis=1)"
   ]
  },
  {
   "cell_type": "code",
   "execution_count": 37,
   "id": "0005ad88",
   "metadata": {},
   "outputs": [
    {
     "data": {
      "text/plain": [
       "['Unknown', 'Yorkshire Terrier', 'Shih Tzu']"
      ]
     },
     "execution_count": 37,
     "metadata": {},
     "output_type": "execute_result"
    }
   ],
   "source": [
    "# Creating a new df of Bronx breed name\n",
    "bronx_df = boroughs_df[boroughs_df['Borough'].str.contains('Bronx')]\n",
    "# Top dog in Bronx\n",
    "n=3\n",
    "bronx_df['BreedName'].value_counts()[:n].index.tolist()\n"
   ]
  },
  {
   "cell_type": "code",
   "execution_count": 36,
   "id": "8e39c040",
   "metadata": {},
   "outputs": [
    {
     "data": {
      "text/plain": [
       "['Unknown', 'Yorkshire Terrier', 'Shih Tzu']"
      ]
     },
     "execution_count": 36,
     "metadata": {},
     "output_type": "execute_result"
    }
   ],
   "source": [
    "# Creating a new df of Brooklyn breed name\n",
    "brooklyn_df = boroughs_df[boroughs_df['Borough'].str.contains('Brooklyn')]\n",
    "# Top dog in Brooklyn\n",
    "n=3\n",
    "brooklyn_df['BreedName'].value_counts()[:n].index.tolist()"
   ]
  },
  {
   "cell_type": "code",
   "execution_count": 33,
   "id": "538792a2",
   "metadata": {},
   "outputs": [
    {
     "data": {
      "text/plain": [
       "['Unknown', 'Yorkshire Terrier', 'Chihuahua']"
      ]
     },
     "execution_count": 33,
     "metadata": {},
     "output_type": "execute_result"
    }
   ],
   "source": [
    "# Creating a new df of Manhattan breed name\n",
    "manhattan_df = boroughs_df[boroughs_df['Borough'].str.contains('Manhattan')]\n",
    "# Top dog in Manhattan\n",
    "n=3\n",
    "manhattan_df['BreedName'].value_counts()[:n].index.tolist()"
   ]
  },
  {
   "cell_type": "code",
   "execution_count": 34,
   "id": "97b16239",
   "metadata": {},
   "outputs": [
    {
     "data": {
      "text/plain": [
       "['Unknown', 'Yorkshire Terrier', 'Shih Tzu']"
      ]
     },
     "execution_count": 34,
     "metadata": {},
     "output_type": "execute_result"
    }
   ],
   "source": [
    "# Creating a new df of Queens breed name\n",
    "queens_df = boroughs_df[boroughs_df['Borough'].str.contains('Queens')]\n",
    "# Top dog in Queens\n",
    "n=3\n",
    "queens_df['BreedName'].value_counts()[:n].index.tolist()"
   ]
  },
  {
   "cell_type": "code",
   "execution_count": 35,
   "id": "e217b4ae",
   "metadata": {},
   "outputs": [
    {
     "data": {
      "text/plain": [
       "['Unknown', 'Shih Tzu', 'Yorkshire Terrier']"
      ]
     },
     "execution_count": 35,
     "metadata": {},
     "output_type": "execute_result"
    }
   ],
   "source": [
    "# Creating a new df of Staten Island breed name\n",
    "staten_island_df = boroughs_df[boroughs_df['Borough'].str.contains('Staten Island')]\n",
    "# Top dog in Staten Island\n",
    "n=3\n",
    "staten_island_df['BreedName'].value_counts()[:n].index.tolist()"
   ]
  },
  {
   "cell_type": "code",
   "execution_count": 56,
   "id": "69580968",
   "metadata": {},
   "outputs": [
    {
     "data": {
      "text/html": [
       "<div>\n",
       "<style scoped>\n",
       "    .dataframe tbody tr th:only-of-type {\n",
       "        vertical-align: middle;\n",
       "    }\n",
       "\n",
       "    .dataframe tbody tr th {\n",
       "        vertical-align: top;\n",
       "    }\n",
       "\n",
       "    .dataframe thead th {\n",
       "        text-align: right;\n",
       "    }\n",
       "</style>\n",
       "<table border=\"1\" class=\"dataframe\">\n",
       "  <thead>\n",
       "    <tr style=\"text-align: right;\">\n",
       "      <th></th>\n",
       "      <th>Borough</th>\n",
       "      <th>Top Dog</th>\n",
       "    </tr>\n",
       "  </thead>\n",
       "  <tbody>\n",
       "    <tr>\n",
       "      <th>0</th>\n",
       "      <td>Bronx</td>\n",
       "      <td>Yorkshire Terrier</td>\n",
       "    </tr>\n",
       "    <tr>\n",
       "      <th>1</th>\n",
       "      <td>Brooklyn</td>\n",
       "      <td>Yorkshire Terrier</td>\n",
       "    </tr>\n",
       "    <tr>\n",
       "      <th>2</th>\n",
       "      <td>Manhattan</td>\n",
       "      <td>Yorkshire Terrier</td>\n",
       "    </tr>\n",
       "    <tr>\n",
       "      <th>3</th>\n",
       "      <td>Queens</td>\n",
       "      <td>Yorkshire Terrier</td>\n",
       "    </tr>\n",
       "    <tr>\n",
       "      <th>4</th>\n",
       "      <td>Staten Island</td>\n",
       "      <td>Shih Tzu</td>\n",
       "    </tr>\n",
       "  </tbody>\n",
       "</table>\n",
       "</div>"
      ],
      "text/plain": [
       "         Borough            Top Dog\n",
       "0          Bronx  Yorkshire Terrier\n",
       "1       Brooklyn  Yorkshire Terrier\n",
       "2      Manhattan  Yorkshire Terrier\n",
       "3         Queens  Yorkshire Terrier\n",
       "4  Staten Island           Shih Tzu"
      ]
     },
     "execution_count": 56,
     "metadata": {},
     "output_type": "execute_result"
    }
   ],
   "source": [
    "# initialize list of lists\n",
    "data = [['Bronx', 'Yorkshire Terrier'], ['Brooklyn', 'Yorkshire Terrier'], ['Manhattan', 'Yorkshire Terrier'], ['Queens', 'Yorkshire Terrier'], ['Staten Island', 'Shih Tzu']]\n",
    "  \n",
    "# Creating a new df Top Dog Breed Per Borough\n",
    "top_dop_breed_per_borough = pd.DataFrame(data, columns = ['Borough', 'Top Dog'])\n",
    "top_dop_breed_per_borough"
   ]
  },
  {
   "cell_type": "code",
   "execution_count": null,
   "id": "6016eee0",
   "metadata": {},
   "outputs": [],
   "source": []
  },
  {
   "cell_type": "code",
   "execution_count": null,
   "id": "c6d80819",
   "metadata": {},
   "outputs": [],
   "source": []
  },
  {
   "cell_type": "markdown",
   "id": "42e9cbc5",
   "metadata": {},
   "source": [
    "## Playing around with data - irrelevant"
   ]
  },
  {
   "cell_type": "code",
   "execution_count": 12,
   "id": "35dd3717",
   "metadata": {},
   "outputs": [
    {
     "name": "stdout",
     "output_type": "stream",
     "text": [
      "       AnimalName                   BreedName        Borough CensusTract2010\n",
      "0         SHADOW                       Beagle       Brooklyn             NaN\n",
      "1           ROCCO                       Boxer       Brooklyn             NaN\n",
      "2           LUIGI                     Maltese          Bronx             NaN\n",
      "3         PETUNIA                         Pug       Brooklyn             NaN\n",
      "4           ROMEO                     Maltese          Bronx             NaN\n",
      "...           ...                         ...            ...             ...\n",
      "117619      ROCKY              Boston Terrier      Manhattan             NaN\n",
      "117620      ROXY               Collie, Border       Brooklyn             NaN\n",
      "117621  VALENTINA  German Shepherd Crossbreed  Staten Island             NaN\n",
      "117622      VENUS           Yorkshire Terrier          Bronx             NaN\n",
      "117623     WILLOW                     Unknown      Manhattan             NaN\n",
      "\n",
      "[117624 rows x 4 columns]\n"
     ]
    }
   ],
   "source": [
    "# Binning CensusTract2010 column\n",
    "bins = [1, 1000, 10000, 50000, 100000, 170000]\n",
    "labels = [1,2,3,4,5]\n",
    "\n",
    "binned_df['CensusTract2010'] = pd.cut(binned_df['CensusTract2010'], bins=bins, labels=labels)\n",
    "print(binned_df)"
   ]
  },
  {
   "cell_type": "code",
   "execution_count": 13,
   "id": "0db6d34c",
   "metadata": {},
   "outputs": [
    {
     "data": {
      "text/html": [
       "<div>\n",
       "<style scoped>\n",
       "    .dataframe tbody tr th:only-of-type {\n",
       "        vertical-align: middle;\n",
       "    }\n",
       "\n",
       "    .dataframe tbody tr th {\n",
       "        vertical-align: top;\n",
       "    }\n",
       "\n",
       "    .dataframe thead th {\n",
       "        text-align: right;\n",
       "    }\n",
       "</style>\n",
       "<table border=\"1\" class=\"dataframe\">\n",
       "  <thead>\n",
       "    <tr style=\"text-align: right;\">\n",
       "      <th></th>\n",
       "      <th>Unnamed: 0</th>\n",
       "      <th>AnimalName</th>\n",
       "      <th>AnimalGender</th>\n",
       "      <th>AnimalBirthMonth</th>\n",
       "      <th>BreedName</th>\n",
       "      <th>Borough</th>\n",
       "      <th>ZipCode</th>\n",
       "      <th>CommunityDistrict</th>\n",
       "      <th>CensusTract2010</th>\n",
       "      <th>NTA</th>\n",
       "      <th>CityCouncilDistrict</th>\n",
       "      <th>CongressionalDistrict</th>\n",
       "      <th>StateSenatorialDistrict</th>\n",
       "      <th>LicenseIssuedDate</th>\n",
       "      <th>LicenseExpiredDate</th>\n",
       "    </tr>\n",
       "  </thead>\n",
       "  <tbody>\n",
       "    <tr>\n",
       "      <th>0</th>\n",
       "      <td>0</td>\n",
       "      <td>SHADOW</td>\n",
       "      <td>M</td>\n",
       "      <td>1</td>\n",
       "      <td>Beagle</td>\n",
       "      <td>Brooklyn</td>\n",
       "      <td>11236</td>\n",
       "      <td>318.0</td>\n",
       "      <td>1014.0</td>\n",
       "      <td>BK50</td>\n",
       "      <td>46.0</td>\n",
       "      <td>8.0</td>\n",
       "      <td>19.0</td>\n",
       "      <td>2014-12-29</td>\n",
       "      <td>2016-01-30</td>\n",
       "    </tr>\n",
       "    <tr>\n",
       "      <th>1</th>\n",
       "      <td>1</td>\n",
       "      <td>ROCCO</td>\n",
       "      <td>M</td>\n",
       "      <td>10</td>\n",
       "      <td>Boxer</td>\n",
       "      <td>Brooklyn</td>\n",
       "      <td>11210</td>\n",
       "      <td>314.0</td>\n",
       "      <td>756.0</td>\n",
       "      <td>BK43</td>\n",
       "      <td>45.0</td>\n",
       "      <td>9.0</td>\n",
       "      <td>17.0</td>\n",
       "      <td>2015-01-07</td>\n",
       "      <td>2016-01-30</td>\n",
       "    </tr>\n",
       "    <tr>\n",
       "      <th>2</th>\n",
       "      <td>2</td>\n",
       "      <td>LUIGI</td>\n",
       "      <td>M</td>\n",
       "      <td>9</td>\n",
       "      <td>Maltese</td>\n",
       "      <td>Bronx</td>\n",
       "      <td>10464</td>\n",
       "      <td>210.0</td>\n",
       "      <td>516.0</td>\n",
       "      <td>BX10</td>\n",
       "      <td>13.0</td>\n",
       "      <td>14.0</td>\n",
       "      <td>34.0</td>\n",
       "      <td>2015-01-17</td>\n",
       "      <td>2016-02-02</td>\n",
       "    </tr>\n",
       "    <tr>\n",
       "      <th>3</th>\n",
       "      <td>3</td>\n",
       "      <td>PETUNIA</td>\n",
       "      <td>F</td>\n",
       "      <td>8</td>\n",
       "      <td>Pug</td>\n",
       "      <td>Brooklyn</td>\n",
       "      <td>11221</td>\n",
       "      <td>304.0</td>\n",
       "      <td>419.0</td>\n",
       "      <td>BK78</td>\n",
       "      <td>34.0</td>\n",
       "      <td>7.0</td>\n",
       "      <td>18.0</td>\n",
       "      <td>2015-03-01</td>\n",
       "      <td>2016-03-28</td>\n",
       "    </tr>\n",
       "    <tr>\n",
       "      <th>4</th>\n",
       "      <td>4</td>\n",
       "      <td>ROMEO</td>\n",
       "      <td>M</td>\n",
       "      <td>10</td>\n",
       "      <td>Maltese</td>\n",
       "      <td>Bronx</td>\n",
       "      <td>10451</td>\n",
       "      <td>201.0</td>\n",
       "      <td>65.0</td>\n",
       "      <td>BX34</td>\n",
       "      <td>17.0</td>\n",
       "      <td>15.0</td>\n",
       "      <td>32.0</td>\n",
       "      <td>2015-03-09</td>\n",
       "      <td>2016-03-09</td>\n",
       "    </tr>\n",
       "  </tbody>\n",
       "</table>\n",
       "</div>"
      ],
      "text/plain": [
       "   Unnamed: 0 AnimalName AnimalGender  AnimalBirthMonth BreedName   Borough  \\\n",
       "0           0    SHADOW             M                 1    Beagle  Brooklyn   \n",
       "1           1      ROCCO            M                10     Boxer  Brooklyn   \n",
       "2           2      LUIGI            M                 9   Maltese     Bronx   \n",
       "3           3    PETUNIA            F                 8       Pug  Brooklyn   \n",
       "4           4      ROMEO            M                10   Maltese     Bronx   \n",
       "\n",
       "   ZipCode  CommunityDistrict  CensusTract2010   NTA  CityCouncilDistrict  \\\n",
       "0    11236              318.0           1014.0  BK50                 46.0   \n",
       "1    11210              314.0            756.0  BK43                 45.0   \n",
       "2    10464              210.0            516.0  BX10                 13.0   \n",
       "3    11221              304.0            419.0  BK78                 34.0   \n",
       "4    10451              201.0             65.0  BX34                 17.0   \n",
       "\n",
       "   CongressionalDistrict  StateSenatorialDistrict LicenseIssuedDate  \\\n",
       "0                    8.0                     19.0        2014-12-29   \n",
       "1                    9.0                     17.0        2015-01-07   \n",
       "2                   14.0                     34.0        2015-01-17   \n",
       "3                    7.0                     18.0        2015-03-01   \n",
       "4                   15.0                     32.0        2015-03-09   \n",
       "\n",
       "  LicenseExpiredDate  \n",
       "0         2016-01-30  \n",
       "1         2016-01-30  \n",
       "2         2016-02-02  \n",
       "3         2016-03-28  \n",
       "4         2016-03-09  "
      ]
     },
     "execution_count": 13,
     "metadata": {},
     "output_type": "execute_result"
    }
   ],
   "source": [
    "# Scaling income column\n",
    "import seaborn as sns\n",
    "import pandas as pd\n",
    "import numpy as np\n",
    " \n",
    "data = NYC_dogs_clean_tableau\n",
    "data.head()"
   ]
  },
  {
   "cell_type": "code",
   "execution_count": 14,
   "id": "dd4763f3",
   "metadata": {},
   "outputs": [
    {
     "data": {
      "text/html": [
       "<div>\n",
       "<style scoped>\n",
       "    .dataframe tbody tr th:only-of-type {\n",
       "        vertical-align: middle;\n",
       "    }\n",
       "\n",
       "    .dataframe tbody tr th {\n",
       "        vertical-align: top;\n",
       "    }\n",
       "\n",
       "    .dataframe thead th {\n",
       "        text-align: right;\n",
       "    }\n",
       "</style>\n",
       "<table border=\"1\" class=\"dataframe\">\n",
       "  <thead>\n",
       "    <tr style=\"text-align: right;\">\n",
       "      <th></th>\n",
       "      <th>CensusTract2010</th>\n",
       "    </tr>\n",
       "  </thead>\n",
       "  <tbody>\n",
       "    <tr>\n",
       "      <th>0</th>\n",
       "      <td>1014.0</td>\n",
       "    </tr>\n",
       "    <tr>\n",
       "      <th>1</th>\n",
       "      <td>756.0</td>\n",
       "    </tr>\n",
       "    <tr>\n",
       "      <th>2</th>\n",
       "      <td>516.0</td>\n",
       "    </tr>\n",
       "    <tr>\n",
       "      <th>3</th>\n",
       "      <td>419.0</td>\n",
       "    </tr>\n",
       "    <tr>\n",
       "      <th>4</th>\n",
       "      <td>65.0</td>\n",
       "    </tr>\n",
       "    <tr>\n",
       "      <th>...</th>\n",
       "      <td>...</td>\n",
       "    </tr>\n",
       "    <tr>\n",
       "      <th>117619</th>\n",
       "      <td>98.0</td>\n",
       "    </tr>\n",
       "    <tr>\n",
       "      <th>117620</th>\n",
       "      <td>250.0</td>\n",
       "    </tr>\n",
       "    <tr>\n",
       "      <th>117621</th>\n",
       "      <td>17008.0</td>\n",
       "    </tr>\n",
       "    <tr>\n",
       "      <th>117622</th>\n",
       "      <td>79.0</td>\n",
       "    </tr>\n",
       "    <tr>\n",
       "      <th>117623</th>\n",
       "      <td>195.0</td>\n",
       "    </tr>\n",
       "  </tbody>\n",
       "</table>\n",
       "<p>117624 rows × 1 columns</p>\n",
       "</div>"
      ],
      "text/plain": [
       "        CensusTract2010\n",
       "0                1014.0\n",
       "1                 756.0\n",
       "2                 516.0\n",
       "3                 419.0\n",
       "4                  65.0\n",
       "...                 ...\n",
       "117619             98.0\n",
       "117620            250.0\n",
       "117621          17008.0\n",
       "117622             79.0\n",
       "117623            195.0\n",
       "\n",
       "[117624 rows x 1 columns]"
      ]
     },
     "execution_count": 14,
     "metadata": {},
     "output_type": "execute_result"
    }
   ],
   "source": [
    "# Min-Max Normalization\n",
    "df = data.drop(['AnimalName', 'AnimalGender', 'AnimalBirthMonth', 'ZipCode', 'CommunityDistrict', 'NTA', 'CityCouncilDistrict', 'CongressionalDistrict', 'BreedName', 'Unnamed: 0', 'Borough', 'StateSenatorialDistrict', 'LicenseIssuedDate', 'LicenseExpiredDate'], axis=1)\n",
    "df"
   ]
  },
  {
   "cell_type": "code",
   "execution_count": 9,
   "id": "fc2e2a68",
   "metadata": {},
   "outputs": [
    {
     "data": {
      "text/html": [
       "<div>\n",
       "<style scoped>\n",
       "    .dataframe tbody tr th:only-of-type {\n",
       "        vertical-align: middle;\n",
       "    }\n",
       "\n",
       "    .dataframe tbody tr th {\n",
       "        vertical-align: top;\n",
       "    }\n",
       "\n",
       "    .dataframe thead th {\n",
       "        text-align: right;\n",
       "    }\n",
       "</style>\n",
       "<table border=\"1\" class=\"dataframe\">\n",
       "  <thead>\n",
       "    <tr style=\"text-align: right;\">\n",
       "      <th></th>\n",
       "      <th>AnimalName</th>\n",
       "      <th>BreedName</th>\n",
       "      <th>Borough</th>\n",
       "      <th>CensusTract2010</th>\n",
       "    </tr>\n",
       "  </thead>\n",
       "  <tbody>\n",
       "    <tr>\n",
       "      <th>0</th>\n",
       "      <td>SHADOW</td>\n",
       "      <td>Beagle</td>\n",
       "      <td>Brooklyn</td>\n",
       "      <td>1014.0</td>\n",
       "    </tr>\n",
       "    <tr>\n",
       "      <th>1</th>\n",
       "      <td>ROCCO</td>\n",
       "      <td>Boxer</td>\n",
       "      <td>Brooklyn</td>\n",
       "      <td>756.0</td>\n",
       "    </tr>\n",
       "    <tr>\n",
       "      <th>2</th>\n",
       "      <td>LUIGI</td>\n",
       "      <td>Maltese</td>\n",
       "      <td>Bronx</td>\n",
       "      <td>516.0</td>\n",
       "    </tr>\n",
       "    <tr>\n",
       "      <th>3</th>\n",
       "      <td>PETUNIA</td>\n",
       "      <td>Pug</td>\n",
       "      <td>Brooklyn</td>\n",
       "      <td>419.0</td>\n",
       "    </tr>\n",
       "    <tr>\n",
       "      <th>4</th>\n",
       "      <td>ROMEO</td>\n",
       "      <td>Maltese</td>\n",
       "      <td>Bronx</td>\n",
       "      <td>65.0</td>\n",
       "    </tr>\n",
       "    <tr>\n",
       "      <th>...</th>\n",
       "      <td>...</td>\n",
       "      <td>...</td>\n",
       "      <td>...</td>\n",
       "      <td>...</td>\n",
       "    </tr>\n",
       "    <tr>\n",
       "      <th>117619</th>\n",
       "      <td>ROCKY</td>\n",
       "      <td>Boston Terrier</td>\n",
       "      <td>Manhattan</td>\n",
       "      <td>98.0</td>\n",
       "    </tr>\n",
       "    <tr>\n",
       "      <th>117620</th>\n",
       "      <td>ROXY</td>\n",
       "      <td>Collie, Border</td>\n",
       "      <td>Brooklyn</td>\n",
       "      <td>250.0</td>\n",
       "    </tr>\n",
       "    <tr>\n",
       "      <th>117621</th>\n",
       "      <td>VALENTINA</td>\n",
       "      <td>German Shepherd Crossbreed</td>\n",
       "      <td>Staten Island</td>\n",
       "      <td>17008.0</td>\n",
       "    </tr>\n",
       "    <tr>\n",
       "      <th>117622</th>\n",
       "      <td>VENUS</td>\n",
       "      <td>Yorkshire Terrier</td>\n",
       "      <td>Bronx</td>\n",
       "      <td>79.0</td>\n",
       "    </tr>\n",
       "    <tr>\n",
       "      <th>117623</th>\n",
       "      <td>WILLOW</td>\n",
       "      <td>Unknown</td>\n",
       "      <td>Manhattan</td>\n",
       "      <td>195.0</td>\n",
       "    </tr>\n",
       "  </tbody>\n",
       "</table>\n",
       "<p>117624 rows × 4 columns</p>\n",
       "</div>"
      ],
      "text/plain": [
       "       AnimalName                   BreedName        Borough  CensusTract2010\n",
       "0         SHADOW                       Beagle       Brooklyn           1014.0\n",
       "1           ROCCO                       Boxer       Brooklyn            756.0\n",
       "2           LUIGI                     Maltese          Bronx            516.0\n",
       "3         PETUNIA                         Pug       Brooklyn            419.0\n",
       "4           ROMEO                     Maltese          Bronx             65.0\n",
       "...           ...                         ...            ...              ...\n",
       "117619      ROCKY              Boston Terrier      Manhattan             98.0\n",
       "117620      ROXY               Collie, Border       Brooklyn            250.0\n",
       "117621  VALENTINA  German Shepherd Crossbreed  Staten Island          17008.0\n",
       "117622      VENUS           Yorkshire Terrier          Bronx             79.0\n",
       "117623     WILLOW                     Unknown      Manhattan            195.0\n",
       "\n",
       "[117624 rows x 4 columns]"
      ]
     },
     "execution_count": 9,
     "metadata": {},
     "output_type": "execute_result"
    }
   ],
   "source": [
    "# Drop unneccessary columns\n",
    "binned_df = NYC_dogs_clean_tableau.drop(['Unnamed: 0', 'AnimalGender', 'AnimalBirthMonth', 'ZipCode', 'CommunityDistrict', 'NTA', 'CityCouncilDistrict', 'CongressionalDistrict', 'StateSenatorialDistrict', 'LicenseIssuedDate', 'LicenseExpiredDate'], axis=1)\n",
    "binned_df"
   ]
  },
  {
   "cell_type": "code",
   "execution_count": 15,
   "id": "5e5d539e",
   "metadata": {},
   "outputs": [
    {
     "name": "stdout",
     "output_type": "stream",
     "text": [
      "Scaled Dataset Using Pandas\n"
     ]
    },
    {
     "name": "stderr",
     "output_type": "stream",
     "text": [
      "/Users/belenlopez/opt/anaconda3/envs/mlenv/lib/python3.7/site-packages/ipykernel_launcher.py:3: FutureWarning: In a future version of pandas all arguments of concat except for the argument 'objs' will be keyword-only\n",
      "  This is separate from the ipykernel package so we can avoid doing imports until\n"
     ]
    },
    {
     "data": {
      "text/html": [
       "<div>\n",
       "<style scoped>\n",
       "    .dataframe tbody tr th:only-of-type {\n",
       "        vertical-align: middle;\n",
       "    }\n",
       "\n",
       "    .dataframe tbody tr th {\n",
       "        vertical-align: top;\n",
       "    }\n",
       "\n",
       "    .dataframe thead th {\n",
       "        text-align: right;\n",
       "    }\n",
       "</style>\n",
       "<table border=\"1\" class=\"dataframe\">\n",
       "  <thead>\n",
       "    <tr style=\"text-align: right;\">\n",
       "      <th></th>\n",
       "      <th>CensusTract2010</th>\n",
       "      <th>Unnamed: 0</th>\n",
       "      <th>AnimalName</th>\n",
       "      <th>AnimalGender</th>\n",
       "      <th>AnimalBirthMonth</th>\n",
       "      <th>BreedName</th>\n",
       "      <th>Borough</th>\n",
       "      <th>ZipCode</th>\n",
       "      <th>CommunityDistrict</th>\n",
       "      <th>CensusTract2010</th>\n",
       "      <th>NTA</th>\n",
       "      <th>CityCouncilDistrict</th>\n",
       "      <th>CongressionalDistrict</th>\n",
       "      <th>StateSenatorialDistrict</th>\n",
       "      <th>LicenseIssuedDate</th>\n",
       "      <th>LicenseExpiredDate</th>\n",
       "    </tr>\n",
       "  </thead>\n",
       "  <tbody>\n",
       "    <tr>\n",
       "      <th>0</th>\n",
       "      <td>0.006415</td>\n",
       "      <td>0</td>\n",
       "      <td>SHADOW</td>\n",
       "      <td>M</td>\n",
       "      <td>1</td>\n",
       "      <td>Beagle</td>\n",
       "      <td>Brooklyn</td>\n",
       "      <td>11236</td>\n",
       "      <td>318.0</td>\n",
       "      <td>1014.0</td>\n",
       "      <td>BK50</td>\n",
       "      <td>46.0</td>\n",
       "      <td>8.0</td>\n",
       "      <td>19.0</td>\n",
       "      <td>2014-12-29</td>\n",
       "      <td>2016-01-30</td>\n",
       "    </tr>\n",
       "    <tr>\n",
       "      <th>1</th>\n",
       "      <td>0.004781</td>\n",
       "      <td>1</td>\n",
       "      <td>ROCCO</td>\n",
       "      <td>M</td>\n",
       "      <td>10</td>\n",
       "      <td>Boxer</td>\n",
       "      <td>Brooklyn</td>\n",
       "      <td>11210</td>\n",
       "      <td>314.0</td>\n",
       "      <td>756.0</td>\n",
       "      <td>BK43</td>\n",
       "      <td>45.0</td>\n",
       "      <td>9.0</td>\n",
       "      <td>17.0</td>\n",
       "      <td>2015-01-07</td>\n",
       "      <td>2016-01-30</td>\n",
       "    </tr>\n",
       "    <tr>\n",
       "      <th>2</th>\n",
       "      <td>0.003262</td>\n",
       "      <td>2</td>\n",
       "      <td>LUIGI</td>\n",
       "      <td>M</td>\n",
       "      <td>9</td>\n",
       "      <td>Maltese</td>\n",
       "      <td>Bronx</td>\n",
       "      <td>10464</td>\n",
       "      <td>210.0</td>\n",
       "      <td>516.0</td>\n",
       "      <td>BX10</td>\n",
       "      <td>13.0</td>\n",
       "      <td>14.0</td>\n",
       "      <td>34.0</td>\n",
       "      <td>2015-01-17</td>\n",
       "      <td>2016-02-02</td>\n",
       "    </tr>\n",
       "    <tr>\n",
       "      <th>3</th>\n",
       "      <td>0.002647</td>\n",
       "      <td>3</td>\n",
       "      <td>PETUNIA</td>\n",
       "      <td>F</td>\n",
       "      <td>8</td>\n",
       "      <td>Pug</td>\n",
       "      <td>Brooklyn</td>\n",
       "      <td>11221</td>\n",
       "      <td>304.0</td>\n",
       "      <td>419.0</td>\n",
       "      <td>BK78</td>\n",
       "      <td>34.0</td>\n",
       "      <td>7.0</td>\n",
       "      <td>18.0</td>\n",
       "      <td>2015-03-01</td>\n",
       "      <td>2016-03-28</td>\n",
       "    </tr>\n",
       "    <tr>\n",
       "      <th>4</th>\n",
       "      <td>0.000405</td>\n",
       "      <td>4</td>\n",
       "      <td>ROMEO</td>\n",
       "      <td>M</td>\n",
       "      <td>10</td>\n",
       "      <td>Maltese</td>\n",
       "      <td>Bronx</td>\n",
       "      <td>10451</td>\n",
       "      <td>201.0</td>\n",
       "      <td>65.0</td>\n",
       "      <td>BX34</td>\n",
       "      <td>17.0</td>\n",
       "      <td>15.0</td>\n",
       "      <td>32.0</td>\n",
       "      <td>2015-03-09</td>\n",
       "      <td>2016-03-09</td>\n",
       "    </tr>\n",
       "  </tbody>\n",
       "</table>\n",
       "</div>"
      ],
      "text/plain": [
       "   CensusTract2010  Unnamed: 0 AnimalName AnimalGender  AnimalBirthMonth  \\\n",
       "0         0.006415           0    SHADOW             M                 1   \n",
       "1         0.004781           1      ROCCO            M                10   \n",
       "2         0.003262           2      LUIGI            M                 9   \n",
       "3         0.002647           3    PETUNIA            F                 8   \n",
       "4         0.000405           4      ROMEO            M                10   \n",
       "\n",
       "  BreedName   Borough  ZipCode  CommunityDistrict  CensusTract2010   NTA  \\\n",
       "0    Beagle  Brooklyn    11236              318.0           1014.0  BK50   \n",
       "1     Boxer  Brooklyn    11210              314.0            756.0  BK43   \n",
       "2   Maltese     Bronx    10464              210.0            516.0  BX10   \n",
       "3       Pug  Brooklyn    11221              304.0            419.0  BK78   \n",
       "4   Maltese     Bronx    10451              201.0             65.0  BX34   \n",
       "\n",
       "   CityCouncilDistrict  CongressionalDistrict  StateSenatorialDistrict  \\\n",
       "0                 46.0                    8.0                     19.0   \n",
       "1                 45.0                    9.0                     17.0   \n",
       "2                 13.0                   14.0                     34.0   \n",
       "3                 34.0                    7.0                     18.0   \n",
       "4                 17.0                   15.0                     32.0   \n",
       "\n",
       "  LicenseIssuedDate LicenseExpiredDate  \n",
       "0        2014-12-29         2016-01-30  \n",
       "1        2015-01-07         2016-01-30  \n",
       "2        2015-01-17         2016-02-02  \n",
       "3        2015-03-01         2016-03-28  \n",
       "4        2015-03-09         2016-03-09  "
      ]
     },
     "execution_count": 15,
     "metadata": {},
     "output_type": "execute_result"
    }
   ],
   "source": [
    "# Min-Max Normalization\n",
    "df_norm = (df-df.min())/(df.max()-df.min())\n",
    "df_norm = pd.concat((df_norm, data), 1)\n",
    " \n",
    "print(\"Scaled Dataset Using Pandas\")\n",
    "df_norm.head()"
   ]
  },
  {
   "cell_type": "code",
   "execution_count": null,
   "id": "cffa9785",
   "metadata": {},
   "outputs": [],
   "source": []
  },
  {
   "cell_type": "code",
   "execution_count": null,
   "id": "eff20dcd",
   "metadata": {},
   "outputs": [],
   "source": []
  },
  {
   "cell_type": "code",
   "execution_count": 17,
   "id": "79eb0dc8",
   "metadata": {},
   "outputs": [
    {
     "ename": "NameError",
     "evalue": "name 'citibike_data_df' is not defined",
     "output_type": "error",
     "traceback": [
      "\u001b[0;31m---------------------------------------------------------------------------\u001b[0m",
      "\u001b[0;31mNameError\u001b[0m                                 Traceback (most recent call last)",
      "\u001b[0;32m/var/folders/sr/yzhsr7gx55b22w0zjmzkqc840000gn/T/ipykernel_89333/1974156643.py\u001b[0m in \u001b[0;36m<module>\u001b[0;34m\u001b[0m\n\u001b[1;32m      1\u001b[0m \u001b[0;31m# IF NEEDED - 5. Export the Dataframe as a new CSV file without the index.\u001b[0m\u001b[0;34m\u001b[0m\u001b[0;34m\u001b[0m\u001b[0;34m\u001b[0m\u001b[0m\n\u001b[0;32m----> 2\u001b[0;31m \u001b[0mcitibike_data_df\u001b[0m\u001b[0;34m.\u001b[0m\u001b[0mto_csv\u001b[0m\u001b[0;34m(\u001b[0m\u001b[0;34m'201908-citibike-updated-data.csv'\u001b[0m\u001b[0;34m,\u001b[0m \u001b[0mindex\u001b[0m\u001b[0;34m=\u001b[0m\u001b[0;32mFalse\u001b[0m\u001b[0;34m)\u001b[0m\u001b[0;34m\u001b[0m\u001b[0;34m\u001b[0m\u001b[0m\n\u001b[0m",
      "\u001b[0;31mNameError\u001b[0m: name 'citibike_data_df' is not defined"
     ]
    }
   ],
   "source": [
    "# IF NEEDED - 5. Export the Dataframe as a new CSV file without the index.\n",
    "citibike_data_df.to_csv('201908-citibike-updated-data.csv', index=False)"
   ]
  },
  {
   "cell_type": "code",
   "execution_count": null,
   "id": "2aa5d50b",
   "metadata": {},
   "outputs": [],
   "source": []
  }
 ],
 "metadata": {
  "kernelspec": {
   "display_name": "mlenv",
   "language": "python",
   "name": "mlenv"
  },
  "language_info": {
   "codemirror_mode": {
    "name": "ipython",
    "version": 3
   },
   "file_extension": ".py",
   "mimetype": "text/x-python",
   "name": "python",
   "nbconvert_exporter": "python",
   "pygments_lexer": "ipython3",
   "version": "3.7.11"
  }
 },
 "nbformat": 4,
 "nbformat_minor": 5
}
