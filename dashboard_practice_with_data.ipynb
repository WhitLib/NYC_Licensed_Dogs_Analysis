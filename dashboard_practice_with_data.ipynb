{
 "cells": [
  {
   "cell_type": "code",
   "execution_count": null,
   "id": "9bc60bf6",
   "metadata": {},
   "outputs": [],
   "source": [
    "#practice dashboard explainer\n",
    "#practice with out own data\n",
    "import pandas as pd\n",
    "import datetime as dt\n",
    "from sklearn.ensemble import RandomForestClassifier\n",
    "from sklearn import tree\n",
    "from sklearn.preprocessing import StandardScaler\n",
    "from sklearn.model_selection import train_test_split\n",
    "from sklearn.metrics import confusion_matrix, accuracy_score, classification_report\n",
    "\n",
    "from explainerdashboard import ClassifierExplainer, ExplainerDashboard\n",
    "from flask import Flask, render_template"
   ]
  },
  {
   "cell_type": "code",
   "execution_count": null,
   "id": "983deed9",
   "metadata": {},
   "outputs": [],
   "source": [
    "#create a flask app\n",
    "app = Flask(__name__)"
   ]
  },
  {
   "cell_type": "code",
   "execution_count": null,
   "id": "69622595",
   "metadata": {},
   "outputs": [],
   "source": [
    "#import our encoded dataframe\n",
    "file_path = \"Resources/dogs_encoded.csv\"\n",
    "\n",
    "dogs_enc_df = pd.read_csv(file_path)\n",
    "\n",
    "dogs_enc_df"
   ]
  },
  {
   "cell_type": "code",
   "execution_count": null,
   "id": "185f6a8c",
   "metadata": {},
   "outputs": [],
   "source": [
    "#define the features\n",
    "#NOTE: many of the features directly relate to where the dog is from (ie ZIP code, districts, etc), I've removed these to make it harder for the model to guess\n",
    "X = dogs_enc_df.copy()\n",
    "X = X[[\"AnimalName\", \"BreedName\", \"Borough_enc\", \"ZipCode\", \"AnimalBirthMonth\", \"LicenseIssuedDate\", \"LicenseExpiredDate\"]]\n",
    "y = dogs_enc_df[\"gender_enc\"]"
   ]
  },
  {
   "cell_type": "code",
   "execution_count": null,
   "id": "4af2f6fe",
   "metadata": {},
   "outputs": [],
   "source": [
    "#test train split\n",
    "X_train, X_test, y_train, y_test = train_test_split(X, y, random_state=42)"
   ]
  },
  {
   "cell_type": "code",
   "execution_count": null,
   "id": "922ec694",
   "metadata": {},
   "outputs": [],
   "source": [
    "#create the model\n",
    "model = RandomForestClassifier(n_estimators=50, max_depth=5)\n",
    "model.fit(X_train, y_train)"
   ]
  },
  {
   "cell_type": "code",
   "execution_count": null,
   "id": "648fba3f",
   "metadata": {},
   "outputs": [],
   "source": [
    "#create the explainer instance, needs X_test and y_test\n",
    "explainer = ClassifierExplainer(\n",
    "                model, X_test, y_test,\n",
    "                # optional:\n",
    "                #cats=['AnimalName', 'BreedName', 'Borough_enc'],\n",
    "                labels=['Male', 'Female']\n",
    ")\n",
    "\n",
    "db = ExplainerDashboard(explainer, title=\"NYC_Dogs_Dash\",\n",
    "                    whatif=False, # you can switch off tabs with bools\n",
    "                    shap_interaction=False,\n",
    "                    decision_trees=False,\n",
    "                    server=app, \n",
    "                    url_base_pathname=\"/dashboard/\")"
   ]
  },
  {
   "cell_type": "code",
   "execution_count": null,
   "id": "5bbcb9c8",
   "metadata": {},
   "outputs": [],
   "source": [
    "#save the dashboard instance\n",
    "#db.to_yaml(\"dashboard.yaml\", explainerfile=\"explainer.joblib\", dump_explainer=True)"
   ]
  },
  {
   "cell_type": "code",
   "execution_count": null,
   "id": "4019da50",
   "metadata": {},
   "outputs": [],
   "source": [
    "#run the dashboard\n",
    "#db.run(port=8051)"
   ]
  },
  {
   "cell_type": "code",
   "execution_count": null,
   "id": "b96a4b2e",
   "metadata": {},
   "outputs": [],
   "source": [
    "#this page works!!\n",
    "@app.route('/')\n",
    "def home():\n",
    "   return render_template('index.html')"
   ]
  },
  {
   "cell_type": "code",
   "execution_count": null,
   "id": "84c01d01",
   "metadata": {},
   "outputs": [],
   "source": [
    "#this will host the ml model\n",
    "@app.route('/dashboard')\n",
    "def return_dashboard():\n",
    "    return db.app.index()"
   ]
  },
  {
   "cell_type": "code",
   "execution_count": null,
   "id": "0a67dd2d",
   "metadata": {},
   "outputs": [],
   "source": [
    "#include this\n",
    "if __name__ == \"__main__\":\n",
    "    app.run(debug=True)"
   ]
  }
 ],
 "metadata": {
  "kernelspec": {
   "display_name": "mlenv",
   "language": "python",
   "name": "mlenv"
  },
  "language_info": {
   "codemirror_mode": {
    "name": "ipython",
    "version": 3
   },
   "file_extension": ".py",
   "mimetype": "text/x-python",
   "name": "python",
   "nbconvert_exporter": "python",
   "pygments_lexer": "ipython3",
   "version": "3.7.11"
  }
 },
 "nbformat": 4,
 "nbformat_minor": 5
}
